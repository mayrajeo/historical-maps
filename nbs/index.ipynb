{
 "cells": [
  {
   "cell_type": "raw",
   "id": "a3d0e43a",
   "metadata": {},
   "source": [
    "---\n",
    "title: Utilizing historical maps in identification of long-term land use changes\n",
    "author: Janne Mäyrä\n",
    "date: last-modified\n",
    "format:\n",
    "  html:\n",
    "    code-fold: true\n",
    "    toc: true\n",
    "    toc-depth: 2\n",
    "    number-sections: false\n",
    "    smooth-scroll: true\n",
    "---"
   ]
  },
  {
   "cell_type": "markdown",
   "id": "50762ba6",
   "metadata": {},
   "source": [
    "Published in Ambio: [DOI: 10.1007/s13280-023-01838-z](http://dx.doi.org/10.1007/s13280-023-01838-z)"
   ]
  },
  {
   "cell_type": "markdown",
   "id": "1c4cfe89",
   "metadata": {},
   "source": [
    "# Abstract"
   ]
  },
  {
   "cell_type": "markdown",
   "id": "8ed9a8b5",
   "metadata": {},
   "source": [
    "> Knowledge in the magnitude and historical trends in land use and land cover (LULC) is needed to understand the changing status of the key elements of the landscape and to better target management efforts. However, this information is not easily available before the start of satellite campaign missions. Scanned historical maps are a valuable but underused source of LULC information. As a case study, we used U-Net to automatically extract fields, mires, roads, watercourses, and water bodies from scanned historical maps, dated 1965, 1984 and 1985 for our 900 km² study area in Southern Finland. We then used these data, along with the topographic databases from 2005 and 2022, to quantify the LULC changes for the past 57 years. For example, the total area of fields decreased by around 27 km², and the total length of watercourses increased by around 2250 km in our study area."
   ]
  },
  {
   "cell_type": "markdown",
   "id": "0f213f1c",
   "metadata": {},
   "source": [
    "# Data used"
   ]
  },
  {
   "cell_type": "markdown",
   "id": "f55ec57e",
   "metadata": {},
   "source": [
    "<img src='nb_figures/area_map.jpeg' width='700'>"
   ]
  },
  {
   "cell_type": "markdown",
   "id": "0c917325",
   "metadata": {},
   "source": [
    "The study area is located in the vicinity of Evo, Finland, and consists of 9 map sheets, each covering an area of 10x10 km. From each map sheet, we have two different historical scanned maps, older from 1965 and newer from either 1984 or 1985. The maps were provided by [National Land Survey of Finland](https://www.maanmittauslaitos.fi/en/e-services/old-printed-maps), and the ground control points for each individual map were acquired from [vanhatkartat.fi](https://vanhatkartat.fi) by Shingle Oy. Reference data from 2005 and 2022 is based on topographic database by NLS Finland, and it can be acquired for instance from [Paituli download service](https://paituli.csc.fi/download.html)."
   ]
  },
  {
   "cell_type": "markdown",
   "id": "e7889417",
   "metadata": {},
   "source": [
    "# Authors"
   ]
  },
  {
   "cell_type": "markdown",
   "id": "f0ee4791",
   "metadata": {},
   "source": [
    "* Janne Mäyrä, Finnish Environment Institute SYKE\n",
    "* Sonja Kivinen, University of Eastern Finland\n",
    "* Sarita Keski-Saari, University of Eastern Finland\n",
    "* Laura Poikolainen, University of Eastern Finland\n",
    "* Timo Kumpula, University of Eastern Finland"
   ]
  },
  {
   "cell_type": "markdown",
   "id": "0ed9527f",
   "metadata": {},
   "source": [
    "# Acknowledgments\n",
    "\n",
    "The authors wish to acknowledge CSC – IT Center for Science, Finland, for computational resources.\n",
    "\n",
    "This study was supported by the following projects:\n",
    "\n",
    "* [IBC-Carbon](https://ibccarbon.fi)\n",
    "* [Finnish Ecosystem Observatory](https://feosuomi.fi)\n",
    "* [C-NEUT](https://www.syke.fi/fi-FI/Tutkimus__kehittaminen/Tutkimus_ja_kehittamishankkeet/Hankkeet/Hiilineutraaliuden_spatiaalisesti_tarkka_yhdennetty_arviointi_boreaalisessa_maisemassa_ja_alueilla_CNEUT)"
   ]
  }
 ],
 "metadata": {
  "kernelspec": {
   "display_name": "Python [conda env:dronedetector-dev]",
   "language": "python",
   "name": "conda-env-dronedetector-dev-py"
  },
  "language_info": {
   "codemirror_mode": {
    "name": "ipython",
    "version": 3
   },
   "file_extension": ".py",
   "mimetype": "text/x-python",
   "name": "python",
   "nbconvert_exporter": "python",
   "pygments_lexer": "ipython3",
   "version": "3.9.15"
  },
  "toc": {
   "base_numbering": 1,
   "nav_menu": {},
   "number_sections": true,
   "sideBar": true,
   "skip_h1_title": false,
   "title_cell": "Table of Contents",
   "title_sidebar": "Contents",
   "toc_cell": false,
   "toc_position": {},
   "toc_section_display": true,
   "toc_window_display": false
  },
  "vscode": {
   "interpreter": {
    "hash": "dda052d61230f5d744ac7e4c632c6428d2bf5f1154d01083f7ce1a879789cee6"
   }
  }
 },
 "nbformat": 4,
 "nbformat_minor": 5
}
