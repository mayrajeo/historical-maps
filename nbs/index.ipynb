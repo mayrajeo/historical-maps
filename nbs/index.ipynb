{
 "cells": [
  {
   "cell_type": "raw",
   "id": "a3d0e43a",
   "metadata": {},
   "source": [
    "---\n",
    "title: Historical maps in identification of long-term cumulative land cover changes in boreal forest landscape\n",
    "author: Janne Mäyrä\n",
    "date: last-modified\n",
    "format:\n",
    "  html:\n",
    "    code-fold: true\n",
    "    toc: true\n",
    "    toc-depth: 2\n",
    "    number-sections: false\n",
    "    smooth-scroll: true\n",
    "---"
   ]
  },
  {
   "cell_type": "raw",
   "id": "4796c6cf",
   "metadata": {},
   "source": [
    "Insert graphical abstract here"
   ]
  },
  {
   "cell_type": "markdown",
   "id": "1c4cfe89",
   "metadata": {},
   "source": [
    "# Abstract"
   ]
  },
  {
   "cell_type": "markdown",
   "id": "8ed9a8b5",
   "metadata": {},
   "source": [
    "Todo"
   ]
  },
  {
   "cell_type": "markdown",
   "id": "8faef67d",
   "metadata": {},
   "source": [
    "# Getting started"
   ]
  },
  {
   "cell_type": "markdown",
   "id": "13eebc3c",
   "metadata": {},
   "source": [
    "Todo"
   ]
  },
  {
   "cell_type": "markdown",
   "id": "0f213f1c",
   "metadata": {},
   "source": [
    "# Data used"
   ]
  },
  {
   "cell_type": "markdown",
   "id": "0c917325",
   "metadata": {},
   "source": [
    "The study area is located in the vicinity of Evo, Finland, and consists of 9 map sheets. From each map sheet, we have two different historical scanned maps, older from 1965 and newer from either 1984 or 1985. The maps were provided by [National Land Survey of Finland](https://www.maanmittauslaitos.fi/en/e-services/old-printed-maps), and the ground control points for each individual map were acquired from [vanhatkartat.fi](https://vanhatkartat.fi) by Shingle Oy. Reference data from 2005 and 2022 is based on topographic database by NLS Finland, and it can be acquired for instance from [Paituli download service](https://paituli.csc.fi/download.html)"
   ]
  },
  {
   "cell_type": "markdown",
   "id": "e7889417",
   "metadata": {},
   "source": [
    "# Authors"
   ]
  },
  {
   "cell_type": "markdown",
   "id": "f0ee4791",
   "metadata": {},
   "source": [
    "* Janne Mäyrä, Finnish Environment Institute SYKE\n",
    "* Sonja Kivinen, University of Eastern Finland\n",
    "* Sarita Keski-Saari, University of Eastern Finland\n",
    "* Laura Poikolainen, University of Eastern Finland\n",
    "* Timo Kumpula, University of Eastern Finland"
   ]
  }
 ],
 "metadata": {
  "kernelspec": {
   "display_name": "Python 3 (ipykernel)",
   "language": "python",
   "name": "python3"
  }
 },
 "nbformat": 4,
 "nbformat_minor": 5
}
