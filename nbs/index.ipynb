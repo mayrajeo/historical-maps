{
 "cells": [
  {
   "cell_type": "raw",
   "id": "a3d0e43a",
   "metadata": {},
   "source": [
    "---\n",
    "title: Land cover change monitoring with historical maps\n",
    "author: Janne Mäyrä\n",
    "date: last-modified\n",
    "format:\n",
    "  html:\n",
    "    code-fold: true\n",
    "    toc: true\n",
    "    toc-depth: 2\n",
    "    number-sections: false\n",
    "    smooth-scroll: true\n",
    "---"
   ]
  }
 ],
 "metadata": {
  "kernelspec": {
   "display_name": "Python 3",
   "language": "python",
   "name": "python3"
  }
 },
 "nbformat": 4,
 "nbformat_minor": 5
}
