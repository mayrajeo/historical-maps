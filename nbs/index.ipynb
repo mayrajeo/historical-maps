{
 "cells": [
  {
   "cell_type": "raw",
   "id": "a3d0e43a",
   "metadata": {},
   "source": [
    "---\n",
    "title: Utilizing historical maps in identification of long-term land use changes\n",
    "author: Janne Mäyrä\n",
    "date: last-modified\n",
    "format:\n",
    "  html:\n",
    "    code-fold: true\n",
    "    toc: true\n",
    "    toc-depth: 2\n",
    "    number-sections: false\n",
    "    smooth-scroll: true\n",
    "---"
   ]
  },
  {
   "cell_type": "markdown",
   "id": "1c4cfe89",
   "metadata": {},
   "source": [
    "# Abstract"
   ]
  },
  {
   "attachments": {},
   "cell_type": "markdown",
   "id": "8ed9a8b5",
   "metadata": {},
   "source": [
    "> Knowledge in the magnitude and historical trends in land use and land cover is needed to understand the changing status of the key elements of the landscape and to better target management efforts. However, this information is not easily available before the start of satellite campaign missions. Scanned historical maps are a valuable but underused source of land use and land cover information. As a case study, we used U-Net to automatically extract fields, mires, roads, watercourses, and water bodies from scanned historical maps, dated 1965, 1984 and 1985 for our 900 km² study area in Southern Finland. We then used these data, along with the topographic databases from 2005 and 2022, to quantify the LULC changes for the past 57 years. For example, the total area of fields decreased by around 27 km², and the total length of watercourses increased by around 2250 km in our study area."
   ]
  },
  {
   "cell_type": "markdown",
   "id": "0f213f1c",
   "metadata": {},
   "source": [
    "# Data used"
   ]
  },
  {
   "cell_type": "markdown",
   "id": "f55ec57e",
   "metadata": {},
   "source": [
    "<img src='nb_figures/area_map.jpeg' width='700'>"
   ]
  },
  {
   "cell_type": "markdown",
   "id": "0c917325",
   "metadata": {},
   "source": [
    "The study area is located in the vicinity of Evo, Finland, and consists of 9 map sheets. From each map sheet, we have two different historical scanned maps, older from 1965 and newer from either 1984 or 1985. The maps were provided by [National Land Survey of Finland](https://www.maanmittauslaitos.fi/en/e-services/old-printed-maps), and the ground control points for each individual map were acquired from [vanhatkartat.fi](https://vanhatkartat.fi) by Shingle Oy. Reference data from 2005 and 2022 is based on topographic database by NLS Finland, and it can be acquired for instance from [Paituli download service](https://paituli.csc.fi/download.html)."
   ]
  },
  {
   "cell_type": "markdown",
   "id": "e7889417",
   "metadata": {},
   "source": [
    "# Authors"
   ]
  },
  {
   "cell_type": "markdown",
   "id": "f0ee4791",
   "metadata": {},
   "source": [
    "* Janne Mäyrä, Finnish Environment Institute SYKE\n",
    "* Sonja Kivinen, University of Eastern Finland\n",
    "* Sarita Keski-Saari, University of Eastern Finland\n",
    "* Laura Poikolainen, University of Eastern Finland\n",
    "* Timo Kumpula, University of Eastern Finland\n",
    "\n",
    "This work is a part of [IBC-CARBON](https://www.ibccarbon.fi/en-US) WP4."
   ]
  }
 ],
 "metadata": {
  "kernelspec": {
   "display_name": "base",
   "language": "python",
   "name": "python3"
  },
  "language_info": {
   "name": "python",
   "version": "3.7.4 (default, Aug  9 2019, 18:34:13) [MSC v.1915 64 bit (AMD64)]"
  },
  "vscode": {
   "interpreter": {
    "hash": "dda052d61230f5d744ac7e4c632c6428d2bf5f1154d01083f7ce1a879789cee6"
   }
  }
 },
 "nbformat": 4,
 "nbformat_minor": 5
}
